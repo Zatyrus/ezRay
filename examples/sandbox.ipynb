{
 "cells": [
  {
   "cell_type": "markdown",
   "metadata": {},
   "source": [
    "### Dependencies"
   ]
  },
  {
   "cell_type": "code",
   "execution_count": 1,
   "metadata": {},
   "outputs": [],
   "source": [
    "## Only for this notebook\n",
    "from pprint import pprint\n",
    "from typing import Any, Dict\n",
    "\n",
    "import ray\n",
    "\n",
    "## Package\n",
    "from ezRay import MultiCoreExecutionTool"
   ]
  },
  {
   "cell_type": "markdown",
   "metadata": {},
   "source": [
    "## Step 1: Specify ezRay"
   ]
  },
  {
   "cell_type": "code",
   "execution_count": 2,
   "metadata": {},
   "outputs": [
    {
     "name": "stdout",
     "output_type": "stream",
     "text": [
      "Runtime Metadata:\n",
      "{'instance_metadata': {'address': None, 'num_cpus': 1, 'num_gpus': 0},\n",
      " 'task_metadata': {'num_cpus': 1, 'num_gpus': 0, 'num_returns': 1}}\n",
      "\n",
      "\n",
      "Example data:\n",
      "{0: {'ID': 0},\n",
      " 1: {'ID': 1},\n",
      " 2: {'ID': 2},\n",
      " 3: {'ID': 3},\n",
      " 4: {'ID': 4},\n",
      " 5: {'ID': 5},\n",
      " 6: {'ID': 6},\n",
      " 7: {'ID': 7},\n",
      " 8: {'ID': 8},\n",
      " 9: {'ID': 9}}\n"
     ]
    }
   ],
   "source": [
    "## Instance metadata\n",
    "##### IMPORTANT: In this step you can apecify any other keyword argument labeled \"for remote functions\"\n",
    "##### found in https://docs.ray.io/en/latest/ray-core/api/doc/ray.init.html.\n",
    "\n",
    "# -> 'num_cpu' is the number of virtual CPU cores to link with your instance.\n",
    "# -> 'num_gpu' is the number of GPU devices to link with your instance.\n",
    "# -> 'address' is the address of the Ray cluster to connect to. If None, a new cluster will be created locally.\n",
    "instance_metadata: dict = {\"num_cpus\": 1, \"num_gpus\": 0, \"address\": None}\n",
    "\n",
    "## Task metadata\n",
    "##### IMPORTANT: In this step you can specify any other keyword argument labeled \"for remote functions\"\n",
    "##### found in https://docs.ray.io/en/latest/ray-core/api/doc/ray.remote.html.\n",
    "\n",
    "# We keep a few default values for the task metadata.\n",
    "# -> 'num_cpus' is the number of CPU cores to allocate for each task.\n",
    "# -> 'num_gpus' is the number of GPU devices to allocate for each task.\n",
    "# -> 'num_returns' is the number of return values from each task.\n",
    "\n",
    "task_metadata: dict = {\"num_cpus\": 1, \"num_gpus\": 0, \"num_returns\": 1}\n",
    "\n",
    "## Behavioral flags\n",
    "# -> 'AutoArchive' is a boolean flag that will force the archiving of results when between runs and upon data update.\n",
    "# -> 'AutoContinue' is a boolean flag that will force the tool to automatically prepare for the next run after the current run is completed. If AutoArchive is enabled, the tool will automatically archive the results before preparing for the next run.\n",
    "# -> 'SingleShot' is a boolean flag that will force the tool to run once and return the results. Archiving will be disabled and the next run automatically prepared. This is meant to be used if the tool is used as a function or part of a pipeline.\n",
    "# -> 'AutoLaunchDashboard' is a boolean flag to launch the Dask dashboard on cluster initialization.\n",
    "# -> 'ListenerDelayTime' adds an artificial delay when monitoring the cluster status.\n",
    "# -> 'silent' is a boolean flag to suppress all output.\n",
    "# -> 'DEBUG' is a boolean flag to enable debug output.\n",
    "verbosity_flags: dict = {\n",
    "    \"AutoArchive\": True,\n",
    "    \"AutoContinue\": False,\n",
    "    \"SingleShot\": True,\n",
    "    \"AutoLaunchDashboard\": False,\n",
    "    \"ListenerDelayTime\": 0.5,\n",
    "    \"silent\": False,\n",
    "    \"DEBUG\": False,\n",
    "}\n",
    "\n",
    "## Assembly\n",
    "RuntimeMetadata: Dict[str, Any] = {\n",
    "    \"instance_metadata\": instance_metadata,\n",
    "    \"task_metadata\": task_metadata,\n",
    "}\n",
    "print(\"Runtime Metadata:\")\n",
    "pprint(RuntimeMetadata)\n",
    "print(\"\\n\")\n",
    "\n",
    "\n",
    "# Example data\n",
    "RuntimeData: dict = {i: {\"ID\": i} for i in range(10)}\n",
    "print(\"Example data:\")\n",
    "pprint(RuntimeData)"
   ]
  },
  {
   "cell_type": "markdown",
   "metadata": {},
   "source": [
    "## Step 2: Initialize ezRay Instance"
   ]
  },
  {
   "cell_type": "code",
   "execution_count": 3,
   "metadata": {},
   "outputs": [
    {
     "name": "stdout",
     "output_type": "stream",
     "text": [
      "SingleShot mode is enabled. Archive disabled. AutoContinue enabled.\n",
      "SingleShot mode is enabled. Archive disabled. AutoContinue enabled.\n"
     ]
    },
    {
     "name": "stderr",
     "output_type": "stream",
     "text": [
      "2025-09-25 12:09:37,886\tINFO worker.py:1832 -- Started a local Ray instance. View the dashboard at \u001b[1m\u001b[32mhttp://127.0.0.1:8265 \u001b[39m\u001b[22m\n"
     ]
    }
   ],
   "source": [
    "## We create a MultiCoreExecutionTool instance\n",
    "# -> We can either directly provice the RuntimeData or use the 'update_data' method to add data\n",
    "MultiCore: MultiCoreExecutionTool = MultiCoreExecutionTool(\n",
    "    RuntimeData, **RuntimeMetadata, **verbosity_flags\n",
    ")"
   ]
  },
  {
   "cell_type": "code",
   "execution_count": 4,
   "metadata": {},
   "outputs": [],
   "source": [
    "## Update data\n",
    "# -> We can either directly provice the RuntimeData or use the 'update_data' method to add data\n",
    "# e.g.\n",
    "MultiCore.update_data(RuntimeData)\n",
    "\n",
    "## Update metadata\n",
    "# -> We can update the task metadata using the 'update_metadata' method\n",
    "# e.g.\n",
    "MultiCore.update_metadata(\n",
    "    task_metadata={\"num_cpus\": 1, \"num_gpus\": 0, \"num_returns\": 1},\n",
    "    instance_metadata={\"num_cpus\": 1, \"num_gpus\": 0},\n",
    ")"
   ]
  },
  {
   "cell_type": "markdown",
   "metadata": {},
   "source": [
    "### Step 2.5: Launch ray dashboard (optional)"
   ]
  },
  {
   "cell_type": "code",
   "execution_count": 5,
   "metadata": {},
   "outputs": [
    {
     "data": {
      "text/plain": [
       "True"
      ]
     },
     "execution_count": 5,
     "metadata": {},
     "output_type": "execute_result"
    }
   ],
   "source": [
    "## Lauching the dashboard to keep track of the cluster and the tasks\n",
    "MultiCore.launch_dashboard()"
   ]
  },
  {
   "cell_type": "markdown",
   "metadata": {},
   "source": [
    "## Step 3: Run ezRay"
   ]
  },
  {
   "cell_type": "markdown",
   "metadata": {},
   "source": [
    "### SingleShot Mode"
   ]
  },
  {
   "cell_type": "code",
   "execution_count": 7,
   "metadata": {},
   "outputs": [
    {
     "name": "stdout",
     "output_type": "stream",
     "text": [
      "\n",
      "Running in SingleShot mode...\n",
      "\n"
     ]
    },
    {
     "data": {
      "application/vnd.jupyter.widget-view+json": {
       "model_id": "a642a6eaa6334b8d90ddb3d49abaa893",
       "version_major": 2,
       "version_minor": 0
      },
      "text/plain": [
       "Scheduling Workers:   0%|          | 0/10 [00:00<?, ?it/s]"
      ]
     },
     "metadata": {},
     "output_type": "display_data"
    },
    {
     "data": {
      "application/vnd.jupyter.widget-view+json": {
       "model_id": "dfe52c31fad34cd99001e0b4510f3369",
       "version_major": 2,
       "version_minor": 0
      },
      "text/plain": [
       "Workers:   0%|          | 0/10 [00:00<?, ?it/s]"
      ]
     },
     "metadata": {},
     "output_type": "display_data"
    },
    {
     "data": {
      "application/vnd.jupyter.widget-view+json": {
       "model_id": "a50ab16f5b8c421e81d3aedccaffec48",
       "version_major": 2,
       "version_minor": 0
      },
      "text/plain": [
       "CPU usage:   0%|          |"
      ]
     },
     "metadata": {},
     "output_type": "display_data"
    },
    {
     "data": {
      "application/vnd.jupyter.widget-view+json": {
       "model_id": "767af4260e4842dca3e4bff484d27dd9",
       "version_major": 2,
       "version_minor": 0
      },
      "text/plain": [
       "RAM usage:   0%|          |"
      ]
     },
     "metadata": {},
     "output_type": "display_data"
    },
    {
     "name": "stdout",
     "output_type": "stream",
     "text": [
      "{0: {'result': {'ID': 0}, 'status': 'retrieved'},\n",
      " 1: {'result': {'ID': 1}, 'status': 'retrieved'},\n",
      " 2: {'result': {'ID': 2}, 'status': 'retrieved'},\n",
      " 3: {'result': {'ID': 3}, 'status': 'retrieved'},\n",
      " 4: {'result': {'ID': 4}, 'status': 'retrieved'},\n",
      " 5: {'result': {'ID': 5}, 'status': 'retrieved'},\n",
      " 6: {'result': {'ID': 6}, 'status': 'retrieved'},\n",
      " 7: {'result': {'ID': 7}, 'status': 'retrieved'},\n",
      " 8: {'result': {'ID': 8}, 'status': 'retrieved'},\n",
      " 9: {'result': {'ID': 9}, 'status': 'retrieved'}}\n"
     ]
    }
   ],
   "source": [
    "## Run a ray-remote testfunction\n",
    "# We can forward any ray-remote function to the MultiCoreExecutionTool instance.\n",
    "# The function will be executed on the remote cluster.\n",
    "# The function must be defined in a separate module or script.\n",
    "\n",
    "## DEMO function\n",
    "# this will just return the input dictionary in a structured manner\n",
    "@ray.remote(num_cpus=1, num_returns=1)\n",
    "def remote_test_function(kwargs) -> Dict[Any, Any]:\n",
    "    \"\"\"Test function for the framework that merely forwards the input.\"\"\"\n",
    "    return {k: v for k, v in kwargs.items()}\n",
    "\n",
    "\n",
    "if MultiCore.SingleShot:\n",
    "    print(\"\\nRunning in SingleShot mode...\\n\")\n",
    "\n",
    "    ## Pass the function to the MultiCoreExecutionTool instance\n",
    "    pprint(MultiCore.run(remote_test_function))"
   ]
  },
  {
   "cell_type": "markdown",
   "metadata": {},
   "source": [
    "### MultiShot Mode"
   ]
  },
  {
   "cell_type": "code",
   "execution_count": 8,
   "metadata": {},
   "outputs": [
    {
     "name": "stdout",
     "output_type": "stream",
     "text": [
      "SingleShot mode is disabled. Archive enabled. AutoContinue disabled.\n",
      "\n",
      "Running in MultiShot mode...\n",
      "\n"
     ]
    },
    {
     "data": {
      "application/vnd.jupyter.widget-view+json": {
       "model_id": "9ad3803db6cf49cf871d0cf1a682685f",
       "version_major": 2,
       "version_minor": 0
      },
      "text/plain": [
       "Scheduling Workers:   0%|          | 0/10 [00:00<?, ?it/s]"
      ]
     },
     "metadata": {},
     "output_type": "display_data"
    },
    {
     "data": {
      "application/vnd.jupyter.widget-view+json": {
       "model_id": "262a2c1703144af99c45f2d0fd2d8ed3",
       "version_major": 2,
       "version_minor": 0
      },
      "text/plain": [
       "Workers:   0%|          | 0/10 [00:00<?, ?it/s]"
      ]
     },
     "metadata": {},
     "output_type": "display_data"
    },
    {
     "data": {
      "application/vnd.jupyter.widget-view+json": {
       "model_id": "4536c6dfe15a4435beb1546c7809da20",
       "version_major": 2,
       "version_minor": 0
      },
      "text/plain": [
       "CPU usage:   0%|          |"
      ]
     },
     "metadata": {},
     "output_type": "display_data"
    },
    {
     "data": {
      "application/vnd.jupyter.widget-view+json": {
       "model_id": "f5980f7e48154ef9a196d16989f73771",
       "version_major": 2,
       "version_minor": 0
      },
      "text/plain": [
       "RAM usage:   0%|          |"
      ]
     },
     "metadata": {},
     "output_type": "display_data"
    },
    {
     "name": "stdout",
     "output_type": "stream",
     "text": [
      "{0: {'result': {'ID': 0}, 'status': 'retrieved'},\n",
      " 1: {'result': {'ID': 1}, 'status': 'retrieved'},\n",
      " 2: {'result': {'ID': 2}, 'status': 'retrieved'},\n",
      " 3: {'result': {'ID': 3}, 'status': 'retrieved'},\n",
      " 4: {'result': {'ID': 4}, 'status': 'retrieved'},\n",
      " 5: {'result': {'ID': 5}, 'status': 'retrieved'},\n",
      " 6: {'result': {'ID': 6}, 'status': 'retrieved'},\n",
      " 7: {'result': {'ID': 7}, 'status': 'retrieved'},\n",
      " 8: {'result': {'ID': 8}, 'status': 'retrieved'},\n",
      " 9: {'result': {'ID': 9}, 'status': 'retrieved'}}\n"
     ]
    },
    {
     "data": {
      "text/plain": [
       "True"
      ]
     },
     "execution_count": 8,
     "metadata": {},
     "output_type": "execute_result"
    }
   ],
   "source": [
    "## Run a ray-remote testfunction\n",
    "# We can forward any ray-remote function to the MultiCoreExecutionTool instance.\n",
    "# The function will be executed on the remote cluster.\n",
    "# The function must be defined in a separate module or script.\n",
    "\n",
    "## DEMO function\n",
    "# this will just return the input dictionary in a structured manner\n",
    "@ray.remote(num_cpus=1, num_returns=1)\n",
    "def remote_test_function(kwargs) -> Dict[Any, Any]:\n",
    "    \"\"\"Test function for the framework that merely forwards the input.\"\"\"\n",
    "    return {k: v for k, v in kwargs.items()}\n",
    "\n",
    "\n",
    "## Disable SingleShot and reset the data for MultiShot demo\n",
    "MultiCore.SingleShot = False\n",
    "print(\"\\nRunning in MultiShot mode...\\n\")\n",
    "\n",
    "## Pass the function to the MultiCoreExecutionTool instance\n",
    "MultiCore.run(remote_test_function)\n",
    "\n",
    "## Get the results\n",
    "pprint(MultiCore.get_results())\n",
    "\n",
    "## Move to next task\n",
    "MultiCore.next()"
   ]
  },
  {
   "cell_type": "code",
   "execution_count": 9,
   "metadata": {},
   "outputs": [
    {
     "data": {
      "application/vnd.jupyter.widget-view+json": {
       "model_id": "ba83223ba39143a8a6c1adef0c95474d",
       "version_major": 2,
       "version_minor": 0
      },
      "text/plain": [
       "Scheduling Workers:   0%|          | 0/10 [00:00<?, ?it/s]"
      ]
     },
     "metadata": {},
     "output_type": "display_data"
    },
    {
     "data": {
      "application/vnd.jupyter.widget-view+json": {
       "model_id": "7f2c82ee87cd470394aa4881894d05d6",
       "version_major": 2,
       "version_minor": 0
      },
      "text/plain": [
       "Workers:   0%|          | 0/10 [00:00<?, ?it/s]"
      ]
     },
     "metadata": {},
     "output_type": "display_data"
    },
    {
     "data": {
      "application/vnd.jupyter.widget-view+json": {
       "model_id": "2cb644c12f3a4ed28cd6a4f103170772",
       "version_major": 2,
       "version_minor": 0
      },
      "text/plain": [
       "CPU usage:   0%|          |"
      ]
     },
     "metadata": {},
     "output_type": "display_data"
    },
    {
     "data": {
      "application/vnd.jupyter.widget-view+json": {
       "model_id": "151a6c2b7dfb48dfb8275433ac2a094e",
       "version_major": 2,
       "version_minor": 0
      },
      "text/plain": [
       "RAM usage:   0%|          |"
      ]
     },
     "metadata": {},
     "output_type": "display_data"
    },
    {
     "name": "stdout",
     "output_type": "stream",
     "text": [
      "{0: {'result': {'ID': 0}, 'status': 'retrieved'},\n",
      " 1: {'result': {'ID': 1}, 'status': 'retrieved'},\n",
      " 2: {'result': {'ID': 2}, 'status': 'retrieved'},\n",
      " 3: {'result': {'ID': 3}, 'status': 'retrieved'},\n",
      " 4: {'result': {'ID': 4}, 'status': 'retrieved'},\n",
      " 5: {'result': {'ID': 5}, 'status': 'retrieved'},\n",
      " 6: {'result': {'ID': 6}, 'status': 'retrieved'},\n",
      " 7: {'result': {'ID': 7}, 'status': 'retrieved'},\n",
      " 8: {'result': {'ID': 8}, 'status': 'retrieved'},\n",
      " 9: {'result': {'ID': 9}, 'status': 'retrieved'}}\n"
     ]
    },
    {
     "data": {
      "text/plain": [
       "True"
      ]
     },
     "execution_count": 9,
     "metadata": {},
     "output_type": "execute_result"
    }
   ],
   "source": [
    "## Run a local test function\n",
    "# We can also run a local function on the remote cluster.\n",
    "# The function must be defined in a separate module or script.\n",
    "# The function will be wrapped as a remote worker and then passed to the MultiCoreExecutionTool instance.\n",
    "\n",
    "## DEMO function\n",
    "# this will just return the input dictionary in a structured manner\n",
    "def local_test_function(**kwargs):\n",
    "    return {k: v for k, v in kwargs.items()}\n",
    "\n",
    "\n",
    "## Pass the function to the MultiCoreExecutionTool instance\n",
    "MultiCore.run(local_test_function)\n",
    "\n",
    "## Get the results\n",
    "pprint(MultiCore.get_results())\n",
    "\n",
    "## Move to next task\n",
    "MultiCore.next()"
   ]
  },
  {
   "cell_type": "code",
   "execution_count": 10,
   "metadata": {},
   "outputs": [
    {
     "data": {
      "application/vnd.jupyter.widget-view+json": {
       "model_id": "e51fcd6e3f8d4e95b36aecc58b4a8800",
       "version_major": 2,
       "version_minor": 0
      },
      "text/plain": [
       "Scheduling Workers:   0%|          | 0/2 [00:00<?, ?it/s]"
      ]
     },
     "metadata": {},
     "output_type": "display_data"
    },
    {
     "data": {
      "application/vnd.jupyter.widget-view+json": {
       "model_id": "a10594f1cb6c48dd9b76c6e4d75f197c",
       "version_major": 2,
       "version_minor": 0
      },
      "text/plain": [
       "Workers:   0%|          | 0/2 [00:00<?, ?it/s]"
      ]
     },
     "metadata": {},
     "output_type": "display_data"
    },
    {
     "data": {
      "application/vnd.jupyter.widget-view+json": {
       "model_id": "73efb6ee0fab440cb89a0ccba2a3b9ad",
       "version_major": 2,
       "version_minor": 0
      },
      "text/plain": [
       "CPU usage:   0%|          |"
      ]
     },
     "metadata": {},
     "output_type": "display_data"
    },
    {
     "data": {
      "application/vnd.jupyter.widget-view+json": {
       "model_id": "c98fe7d91dea43fe8885b1b2f450ded9",
       "version_major": 2,
       "version_minor": 0
      },
      "text/plain": [
       "RAM usage:   0%|          |"
      ]
     },
     "metadata": {},
     "output_type": "display_data"
    },
    {
     "name": "stdout",
     "output_type": "stream",
     "text": [
      "Pending results found. Use the \"run()\" method to get results.\n",
      "{0: {'result': {'ID': 0}, 'status': 'retrieved'},\n",
      " 1: {'result': {'ID': 1}, 'status': 'retrieved'},\n",
      " 2: {'result': None, 'status': 'pending'},\n",
      " 3: {'result': None, 'status': 'pending'},\n",
      " 4: {'result': None, 'status': 'pending'},\n",
      " 5: {'result': None, 'status': 'pending'},\n",
      " 6: {'result': None, 'status': 'pending'},\n",
      " 7: {'result': None, 'status': 'pending'},\n",
      " 8: {'result': None, 'status': 'pending'},\n",
      " 9: {'result': None, 'status': 'pending'}}\n",
      "Pending results found. Continuing to next task. Pending results will not be archived.\n"
     ]
    },
    {
     "data": {
      "text/plain": [
       "True"
      ]
     },
     "execution_count": 10,
     "metadata": {},
     "output_type": "execute_result"
    }
   ],
   "source": [
    "## Run in batch mode\n",
    "# We can run multiple functions in batch mode.\n",
    "# The functions must be defined in a separate module or script.\n",
    "\n",
    "## DEMO function\n",
    "# this will just return the input dictionary in a structured manner\n",
    "def local_test_function(**kwargs):\n",
    "    return {k: v for k, v in kwargs.items()}\n",
    "\n",
    "\n",
    "## Pass the function to the MultiCoreExecutionTool instance\n",
    "MultiCore.batch(local_test_function, runIDs=2)\n",
    "\n",
    "## Get the results\n",
    "pprint(MultiCore.get_results())\n",
    "\n",
    "## Move to next task\n",
    "MultiCore.next()"
   ]
  },
  {
   "cell_type": "code",
   "execution_count": 11,
   "metadata": {},
   "outputs": [
    {
     "data": {
      "text/plain": [
       "True"
      ]
     },
     "execution_count": 11,
     "metadata": {},
     "output_type": "execute_result"
    }
   ],
   "source": [
    "MultiCore.archive_results()"
   ]
  },
  {
   "cell_type": "markdown",
   "metadata": {},
   "source": [
    "### Check the Metadata"
   ]
  },
  {
   "cell_type": "code",
   "execution_count": 14,
   "metadata": {},
   "outputs": [
    {
     "name": "stdout",
     "output_type": "stream",
     "text": [
      "{'AutoArchive': True,\n",
      " 'AutoContinue': False,\n",
      " 'AutoLaunchDashboard': False,\n",
      " 'DEBUG': False,\n",
      " 'DashboardURL': 'http://127.0.0.1:8265/',\n",
      " 'ListenerDelayTime': 0.5,\n",
      " 'NodeMetadata': {'address': '127.0.0.1:62983',\n",
      "                  'dashboard_agent_listen_port': 52365,\n",
      "                  'gcs_address': '127.0.0.1:62983',\n",
      "                  'metrics_export_port': 58522,\n",
      "                  'node_id': '9dc2978fcb1322f2a16fa52a62b2540775ccced768ef3f50f31aa68f',\n",
      "                  'node_ip_address': '127.0.0.1',\n",
      "                  'object_store_address': 'tcp://127.0.0.1:60902',\n",
      "                  'raylet_ip_address': '127.0.0.1',\n",
      "                  'raylet_socket_name': 'tcp://127.0.0.1:59229',\n",
      "                  'redis_address': None,\n",
      "                  'session_dir': 'C:\\\\Users\\\\belav\\\\AppData\\\\Local\\\\Temp\\\\ray\\\\session_2025-09-25_12-09-32_866104_22700',\n",
      "                  'webui_url': '127.0.0.1:8265'},\n",
      " 'SingleShot': False,\n",
      " 'instance_metadata': {'num_cpus': 1, 'num_gpus': 0},\n",
      " 'silent': False,\n",
      " 'task_metadata': {'num_cpus': 1, 'num_gpus': 0, 'num_returns': 1}}\n"
     ]
    }
   ],
   "source": [
    "pprint(MultiCore.RuntimeMetadata)"
   ]
  },
  {
   "cell_type": "markdown",
   "metadata": {},
   "source": [
    "### Dont forget to shutdown the cluster after use."
   ]
  },
  {
   "cell_type": "code",
   "execution_count": 12,
   "metadata": {},
   "outputs": [],
   "source": [
    "## Shutdown the cluster\n",
    "MultiCore.shutdown()"
   ]
  }
 ],
 "metadata": {
  "kernelspec": {
   "display_name": "ezRay_test",
   "language": "python",
   "name": "python3"
  },
  "language_info": {
   "codemirror_mode": {
    "name": "ipython",
    "version": 3
   },
   "file_extension": ".py",
   "mimetype": "text/x-python",
   "name": "python",
   "nbconvert_exporter": "python",
   "pygments_lexer": "ipython3",
   "version": "3.11.11"
  }
 },
 "nbformat": 4,
 "nbformat_minor": 2
}
