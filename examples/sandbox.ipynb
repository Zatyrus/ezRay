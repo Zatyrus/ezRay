{
 "cells": [
  {
   "cell_type": "markdown",
   "metadata": {},
   "source": [
    "### Dependencies"
   ]
  },
  {
   "cell_type": "code",
   "execution_count": 1,
   "metadata": {},
   "outputs": [],
   "source": [
    "## Only for this notebook\n",
    "from pprint import pprint\n",
    "from typing import Any, Dict\n",
    "\n",
    "import ray\n",
    "\n",
    "## Package\n",
    "from ezRay import MultiCoreExecutionTool"
   ]
  },
  {
   "cell_type": "markdown",
   "metadata": {},
   "source": [
    "## Step 1: Specify ezRay"
   ]
  },
  {
   "cell_type": "code",
   "execution_count": 2,
   "metadata": {},
   "outputs": [
    {
     "name": "stdout",
     "output_type": "stream",
     "text": [
      "Runtime Metadata:\n",
      "{'instance_metadata': {'address': None,\n",
      "                       'ignore_reinit_error': True,\n",
      "                       'num_cpus': 4,\n",
      "                       'num_gpus': 0},\n",
      " 'task_metadata': {'num_cpus': 1, 'num_gpus': 0, 'num_returns': 1}}\n",
      "\n",
      "\n",
      "Example data:\n",
      "{0: {'ID': 0},\n",
      " 1: {'ID': 1},\n",
      " 2: {'ID': 2},\n",
      " 3: {'ID': 3},\n",
      " 4: {'ID': 4},\n",
      " 5: {'ID': 5},\n",
      " 6: {'ID': 6},\n",
      " 7: {'ID': 7},\n",
      " 8: {'ID': 8},\n",
      " 9: {'ID': 9}}\n"
     ]
    }
   ],
   "source": [
    "## Instance metadata\n",
    "##### IMPORTANT: In this step you can apecify any other keyword argument labeled \"for remote functions\" \n",
    "##### found in https://docs.ray.io/en/latest/ray-core/api/doc/ray.init.html. \n",
    "\n",
    "# -> 'num_cpu' is the number of virtual CPU cores to link with your instance. \n",
    "# -> 'num_gpu' is the number of GPU devices to link with your instance.\n",
    "# -> 'launch_dashboard' is a boolean flag to launch the Dask dashboard on cluster initialization.\n",
    "# -> 'sleeptime' adds an artificial delay when monitoring the cluster status.\n",
    "instance_metadata:dict = {\n",
    "    'num_cpus': 4,\n",
    "    'num_gpus': 0,\n",
    "    'address': None,\n",
    "    'ignore_reinit_error':True\n",
    "    }\n",
    "\n",
    "## Task metadata\n",
    "##### IMPORTANT: In this step you can specify any other keyword argument labeled \"for remote functions\" \n",
    "##### found in https://docs.ray.io/en/latest/ray-core/api/doc/ray.remote.html. \n",
    "\n",
    "# We keep a few default values for the task metadata.\n",
    "# -> 'num_cpu_task' is the number of CPU cores to allocate for each task.\n",
    "# -> 'num_gpu_task' is the number of GPU devices to allocate for each task.\n",
    "# -> 'num_returns' is the number of return values from each task.\n",
    "\n",
    "task_metadata:dict = {\n",
    "    'num_cpus': 1,\n",
    "    'num_gpus': 0,\n",
    "    'num_returns': 1\n",
    "    }\n",
    "\n",
    "## Verbosity flags\n",
    "# -> 'silent' is a boolean flag to suppress all output.\n",
    "# -> 'DEBUG' is a boolean flag to enable debug output.\n",
    "verbosity_flags:dict = {\n",
    "    'AutoLaunchDashboard': False,\n",
    "    'ListenerSleeptime': 0.0,\n",
    "    'silent': False,\n",
    "    'DEBUG': False\n",
    "    }\n",
    "\n",
    "## Assembly\n",
    "RuntimeMetadata:Dict[str, Any] = {\n",
    "    'instance_metadata': instance_metadata,\n",
    "    'task_metadata': task_metadata\n",
    "    }\n",
    "print('Runtime Metadata:')\n",
    "pprint(RuntimeMetadata)\n",
    "print('\\n')\n",
    "\n",
    "\n",
    "# Example data\n",
    "RuntimeData:dict = {i:{'ID':i} for i in range(10)}\n",
    "print('Example data:')\n",
    "pprint(RuntimeData)"
   ]
  },
  {
   "cell_type": "markdown",
   "metadata": {},
   "source": [
    "## Step 2: Initialize ezRay Instance"
   ]
  },
  {
   "cell_type": "code",
   "execution_count": 3,
   "metadata": {},
   "outputs": [
    {
     "name": "stderr",
     "output_type": "stream",
     "text": [
      "2025-02-19 16:25:54,371\tINFO worker.py:1832 -- Started a local Ray instance. View the dashboard at \u001b[1m\u001b[32m127.0.0.1:8265 \u001b[39m\u001b[22m\n"
     ]
    }
   ],
   "source": [
    "## We create a MultiCoreExecutionTool instance\n",
    "#-> We can either directly provice the RuntimeData or use the 'update_data' method to add data\n",
    "MultiCore: MultiCoreExecutionTool = MultiCoreExecutionTool(RuntimeData, **RuntimeMetadata, **verbosity_flags)"
   ]
  },
  {
   "cell_type": "code",
   "execution_count": 4,
   "metadata": {},
   "outputs": [],
   "source": [
    "## Update data\n",
    "#-> We can either directly provice the RuntimeData or use the 'update_data' method to add data\n",
    "# e.g.\n",
    "MultiCore.update_data(RuntimeData)\n",
    "\n",
    "## Update metadata\n",
    "#-> We can update the task metadata using the 'update_metadata' method\n",
    "# e.g.\n",
    "MultiCore.update_metadata(\n",
    "    task_metadata = {'num_cpus': 1,\n",
    "                     'num_gpus': 0,\n",
    "                     'num_returns': 1},\n",
    "    instance_metadata = {'num_cpus': 4,\n",
    "                         'num_gpus': 0}\n",
    "    )"
   ]
  },
  {
   "cell_type": "markdown",
   "metadata": {},
   "source": [
    "### Step 2.5: Launch ray dashboard (optional)"
   ]
  },
  {
   "cell_type": "code",
   "execution_count": 5,
   "metadata": {},
   "outputs": [
    {
     "data": {
      "text/plain": [
       "True"
      ]
     },
     "execution_count": 5,
     "metadata": {},
     "output_type": "execute_result"
    }
   ],
   "source": [
    "## Lauching the dashboard to keep track of the cluster and the tasks\n",
    "MultiCore.launch_dashboard()"
   ]
  },
  {
   "cell_type": "markdown",
   "metadata": {},
   "source": [
    "## Step 3: Run ezRay"
   ]
  },
  {
   "cell_type": "code",
   "execution_count": 6,
   "metadata": {},
   "outputs": [
    {
     "data": {
      "application/vnd.jupyter.widget-view+json": {
       "model_id": "14450949208749e5bdcb06a2260a0409",
       "version_major": 2,
       "version_minor": 0
      },
      "text/plain": [
       "Scheduling Workers:   0%|          | 0/10 [00:00<?, ?it/s]"
      ]
     },
     "metadata": {},
     "output_type": "display_data"
    },
    {
     "data": {
      "application/vnd.jupyter.widget-view+json": {
       "model_id": "a6b52558dc8c484890f06b55c78e0383",
       "version_major": 2,
       "version_minor": 0
      },
      "text/plain": [
       "Workers:   0%|          | 0/10 [00:00<?, ?it/s]"
      ]
     },
     "metadata": {},
     "output_type": "display_data"
    },
    {
     "data": {
      "application/vnd.jupyter.widget-view+json": {
       "model_id": "8452e3b427d1430a8c50df7542feb469",
       "version_major": 2,
       "version_minor": 0
      },
      "text/plain": [
       "CPU usage:   0%|          |"
      ]
     },
     "metadata": {},
     "output_type": "display_data"
    },
    {
     "data": {
      "application/vnd.jupyter.widget-view+json": {
       "model_id": "806102bc687a47ed9484031aed9272d1",
       "version_major": 2,
       "version_minor": 0
      },
      "text/plain": [
       "RAM usage:   0%|          |"
      ]
     },
     "metadata": {},
     "output_type": "display_data"
    },
    {
     "data": {
      "text/plain": [
       "{0: {'result': {'ID': 0}, 'status': 'completed'},\n",
       " 1: {'result': {'ID': 1}, 'status': 'completed'},\n",
       " 2: {'result': {'ID': 2}, 'status': 'completed'},\n",
       " 3: {'result': {'ID': 3}, 'status': 'completed'},\n",
       " 4: {'result': {'ID': 4}, 'status': 'completed'},\n",
       " 5: {'result': {'ID': 5}, 'status': 'completed'},\n",
       " 6: {'result': {'ID': 6}, 'status': 'completed'},\n",
       " 7: {'result': {'ID': 7}, 'status': 'completed'},\n",
       " 8: {'result': {'ID': 8}, 'status': 'completed'},\n",
       " 9: {'result': {'ID': 9}, 'status': 'completed'}}"
      ]
     },
     "execution_count": 6,
     "metadata": {},
     "output_type": "execute_result"
    }
   ],
   "source": [
    "## Run a ray-remote testfunction\n",
    "# We can forward any ray-remote function to the MultiCoreExecutionTool instance.\n",
    "# The function will be executed on the remote cluster.\n",
    "# The function must be defined in a separate module or script.\n",
    "\n",
    "## DEMO function\n",
    "# this will just return the input dictionary in a structured manner\n",
    "@ray.remote(num_cpus=1, num_returns=1)\n",
    "def remote_test_function(kwargs)->Dict[Any,Any]:\n",
    "    \"\"\"Test function for the framework that merely forwards the input.\"\"\"\n",
    "    return {k:v for k,v in kwargs.items()}\n",
    "\n",
    "## Pass the function to the MultiCoreExecutionTool instance\n",
    "MultiCore.run(remote_test_function)\n",
    "\n",
    "## Get the results\n",
    "MultiCore.get_results()"
   ]
  },
  {
   "cell_type": "code",
   "execution_count": 7,
   "metadata": {},
   "outputs": [
    {
     "data": {
      "application/vnd.jupyter.widget-view+json": {
       "model_id": "02b49256288141e9b8a58c63c5ec48bb",
       "version_major": 2,
       "version_minor": 0
      },
      "text/plain": [
       "Scheduling Workers:   0%|          | 0/10 [00:00<?, ?it/s]"
      ]
     },
     "metadata": {},
     "output_type": "display_data"
    },
    {
     "data": {
      "application/vnd.jupyter.widget-view+json": {
       "model_id": "ebda10f1760e4b5b8fdeec329f47eb4f",
       "version_major": 2,
       "version_minor": 0
      },
      "text/plain": [
       "Workers:   0%|          | 0/10 [00:00<?, ?it/s]"
      ]
     },
     "metadata": {},
     "output_type": "display_data"
    },
    {
     "data": {
      "application/vnd.jupyter.widget-view+json": {
       "model_id": "0b6c8ffc1dd64512af712133aa7037e2",
       "version_major": 2,
       "version_minor": 0
      },
      "text/plain": [
       "CPU usage:   0%|          |"
      ]
     },
     "metadata": {},
     "output_type": "display_data"
    },
    {
     "data": {
      "application/vnd.jupyter.widget-view+json": {
       "model_id": "2e343c91987f46eb846c2ff5bd221d24",
       "version_major": 2,
       "version_minor": 0
      },
      "text/plain": [
       "RAM usage:   0%|          |"
      ]
     },
     "metadata": {},
     "output_type": "display_data"
    },
    {
     "data": {
      "text/plain": [
       "{0: {'result': {'ID': 0}, 'status': 'completed'},\n",
       " 1: {'result': {'ID': 1}, 'status': 'completed'},\n",
       " 2: {'result': {'ID': 2}, 'status': 'completed'},\n",
       " 3: {'result': {'ID': 3}, 'status': 'completed'},\n",
       " 4: {'result': {'ID': 4}, 'status': 'completed'},\n",
       " 5: {'result': {'ID': 5}, 'status': 'completed'},\n",
       " 6: {'result': {'ID': 6}, 'status': 'completed'},\n",
       " 7: {'result': {'ID': 7}, 'status': 'completed'},\n",
       " 8: {'result': {'ID': 8}, 'status': 'completed'},\n",
       " 9: {'result': {'ID': 9}, 'status': 'completed'}}"
      ]
     },
     "execution_count": 7,
     "metadata": {},
     "output_type": "execute_result"
    }
   ],
   "source": [
    "## Run a local test function\n",
    "# We can also run a local function on the remote cluster.\n",
    "# The function must be defined in a separate module or script.\n",
    "# The function will be wrapped as a remote worker and then passed to the MultiCoreExecutionTool instance.\n",
    "\n",
    "## DEMO function\n",
    "# this will just return the input dictionary in a structured manner\n",
    "def local_test_function(**kwargs):\n",
    "    return {k:v for k,v in kwargs.items()}\n",
    "\n",
    "## Pass the function to the MultiCoreExecutionTool instance\n",
    "MultiCore.run(local_test_function)\n",
    "\n",
    "## Get the results\n",
    "MultiCore.get_results()"
   ]
  },
  {
   "cell_type": "markdown",
   "metadata": {},
   "source": [
    "### Dont forget to shutdown the cluster after use."
   ]
  },
  {
   "cell_type": "code",
   "execution_count": 8,
   "metadata": {},
   "outputs": [],
   "source": [
    "## Shutdown the cluster\n",
    "MultiCore.shutdown()"
   ]
  }
 ],
 "metadata": {
  "kernelspec": {
   "display_name": "ezRay",
   "language": "python",
   "name": "python3"
  },
  "language_info": {
   "codemirror_mode": {
    "name": "ipython",
    "version": 3
   },
   "file_extension": ".py",
   "mimetype": "text/x-python",
   "name": "python",
   "nbconvert_exporter": "python",
   "pygments_lexer": "ipython3",
   "version": "3.11.0"
  }
 },
 "nbformat": 4,
 "nbformat_minor": 2
}
