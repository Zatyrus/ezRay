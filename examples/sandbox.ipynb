{
 "cells": [
  {
   "cell_type": "code",
   "execution_count": 1,
   "metadata": {},
   "outputs": [],
   "source": [
    "## Dependencies\n",
    "from pprint import pprint\n",
    "\n",
    "## Package\n",
    "from ezRay import MultiCoreExecutionTool"
   ]
  },
  {
   "cell_type": "code",
   "execution_count": 2,
   "metadata": {},
   "outputs": [
    {
     "name": "stdout",
     "output_type": "stream",
     "text": [
      "{0: {'ID': 0},\n",
      " 1: {'ID': 1},\n",
      " 2: {'ID': 2},\n",
      " 3: {'ID': 3},\n",
      " 4: {'ID': 4},\n",
      " 5: {'ID': 5},\n",
      " 6: {'ID': 6},\n",
      " 7: {'ID': 7},\n",
      " 8: {'ID': 8},\n",
      " 9: {'ID': 9}}\n"
     ]
    }
   ],
   "source": [
    "## We set a few parameters for the multiprocessing instance\n",
    "# -> 'num_cpu' is the number of logical CPU cores to use\n",
    "# -> 'num_gpu' is the number of GPU devices to use, in our case we will not use any GPU\n",
    "# -> 'launch_dashboard' is a boolean flag to launch the Dask dashboard\n",
    "# -> 'sleeptime' is an artificial time-delay that affects the multiprocessing monitoring\n",
    "specs:dict = {\n",
    "    'num_cpu': 12,\n",
    "    'num_gpu': 0,\n",
    "    'launch_dashboard': True,\n",
    "    'sleeptime': 0\n",
    "    }\n",
    "\n",
    "# MultiCoreExecutionTool.silent:bool = ...\n",
    "# MultiCoreExecutionTool.DEBUG:bool = ...\n",
    "\n",
    "RuntimeData:dict = {i:{'ID':i} for i in range(10)}\n",
    "pprint(RuntimeData)"
   ]
  },
  {
   "cell_type": "code",
   "execution_count": 3,
   "metadata": {},
   "outputs": [
    {
     "name": "stderr",
     "output_type": "stream",
     "text": [
      "2025-02-13 20:25:12,530\tINFO worker.py:1832 -- Started a local Ray instance. View the dashboard at \u001b[1m\u001b[32m127.0.0.1:8265 \u001b[39m\u001b[22m\n"
     ]
    }
   ],
   "source": [
    "## We create a MultiCoreExecutionTool instance\n",
    "#-> We can either directly provice the RuntimeData or use the 'update_data' method to add data\n",
    "MultiCore: MultiCoreExecutionTool = MultiCoreExecutionTool(RuntimeData, **specs)"
   ]
  },
  {
   "cell_type": "code",
   "execution_count": 5,
   "metadata": {},
   "outputs": [],
   "source": [
    "MultiCore.silent = True"
   ]
  },
  {
   "cell_type": "code",
   "execution_count": 6,
   "metadata": {},
   "outputs": [
    {
     "data": {
      "text/plain": [
       "{0: {'result': {'ID': 0}, 'status': 'completed'},\n",
       " 1: {'result': {'ID': 1}, 'status': 'completed'},\n",
       " 2: {'result': {'ID': 2}, 'status': 'completed'},\n",
       " 3: {'result': {'ID': 3}, 'status': 'completed'},\n",
       " 4: {'result': {'ID': 4}, 'status': 'completed'},\n",
       " 5: {'result': {'ID': 5}, 'status': 'completed'},\n",
       " 6: {'result': {'ID': 6}, 'status': 'completed'},\n",
       " 7: {'result': {'ID': 7}, 'status': 'completed'},\n",
       " 8: {'result': {'ID': 8}, 'status': 'completed'},\n",
       " 9: {'result': {'ID': 9}, 'status': 'completed'}}"
      ]
     },
     "execution_count": 6,
     "metadata": {},
     "output_type": "execute_result"
    }
   ],
   "source": [
    "MultiCore.run(MultiCore.test_function)\n",
    "MultiCore.get_results()"
   ]
  },
  {
   "cell_type": "code",
   "execution_count": 7,
   "metadata": {},
   "outputs": [
    {
     "data": {
      "application/vnd.jupyter.widget-view+json": {
       "model_id": "0c2cee9468a945e3ac3675b3e1d21525",
       "version_major": 2,
       "version_minor": 0
      },
      "text/plain": [
       "Scheduling Workers:   0%|          | 0/10 [00:00<?, ?it/s]"
      ]
     },
     "metadata": {},
     "output_type": "display_data"
    },
    {
     "data": {
      "application/vnd.jupyter.widget-view+json": {
       "model_id": "50bc77c518234781a24a0acdea48aa4f",
       "version_major": 2,
       "version_minor": 0
      },
      "text/plain": [
       "Workers:   0%|          | 0/10 [00:00<?, ?it/s]"
      ]
     },
     "metadata": {},
     "output_type": "display_data"
    },
    {
     "data": {
      "application/vnd.jupyter.widget-view+json": {
       "model_id": "0c5f0a0f6c2b4ae3a12cfb1ae2c200cc",
       "version_major": 2,
       "version_minor": 0
      },
      "text/plain": [
       "CPU usage:   0%|          |"
      ]
     },
     "metadata": {},
     "output_type": "display_data"
    },
    {
     "data": {
      "application/vnd.jupyter.widget-view+json": {
       "model_id": "78125602319649acb94801d378fe32ac",
       "version_major": 2,
       "version_minor": 0
      },
      "text/plain": [
       "RAM usage:   0%|          |"
      ]
     },
     "metadata": {},
     "output_type": "display_data"
    },
    {
     "data": {
      "text/plain": [
       "True"
      ]
     },
     "execution_count": 7,
     "metadata": {},
     "output_type": "execute_result"
    }
   ],
   "source": [
    "def test_function(**kwargs):\n",
    "    ## unpack the instruction and the main data source reference\n",
    "    return {k:v for k,v in kwargs.items()}\n",
    "MultiCore.run(test_function)"
   ]
  },
  {
   "cell_type": "code",
   "execution_count": 8,
   "metadata": {},
   "outputs": [
    {
     "data": {
      "text/plain": [
       "{0: {'result': {'ID': 0}, 'status': 'completed'},\n",
       " 1: {'result': {'ID': 1}, 'status': 'completed'},\n",
       " 2: {'result': {'ID': 2}, 'status': 'completed'},\n",
       " 3: {'result': {'ID': 3}, 'status': 'completed'},\n",
       " 4: {'result': {'ID': 4}, 'status': 'completed'},\n",
       " 5: {'result': {'ID': 5}, 'status': 'completed'},\n",
       " 6: {'result': {'ID': 6}, 'status': 'completed'},\n",
       " 7: {'result': {'ID': 7}, 'status': 'completed'},\n",
       " 8: {'result': {'ID': 8}, 'status': 'completed'},\n",
       " 9: {'result': {'ID': 9}, 'status': 'completed'}}"
      ]
     },
     "execution_count": 8,
     "metadata": {},
     "output_type": "execute_result"
    }
   ],
   "source": [
    "MultiCore.get_results()"
   ]
  }
 ],
 "metadata": {
  "kernelspec": {
   "display_name": "ezRay",
   "language": "python",
   "name": "python3"
  },
  "language_info": {
   "codemirror_mode": {
    "name": "ipython",
    "version": 3
   },
   "file_extension": ".py",
   "mimetype": "text/x-python",
   "name": "python",
   "nbconvert_exporter": "python",
   "pygments_lexer": "ipython3",
   "version": "3.11.0"
  }
 },
 "nbformat": 4,
 "nbformat_minor": 2
}
