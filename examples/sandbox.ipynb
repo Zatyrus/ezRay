{
 "cells": [
  {
   "cell_type": "markdown",
   "metadata": {},
   "source": [
    "### Dependencies"
   ]
  },
  {
   "cell_type": "code",
   "execution_count": null,
   "metadata": {},
   "outputs": [],
   "source": [
    "## Only for this notebook\n",
    "from pprint import pprint\n",
    "from typing import Any, Dict\n",
    "\n",
    "import ray\n",
    "\n",
    "## Package\n",
    "from ezRay import MultiCoreExecutionTool"
   ]
  },
  {
   "cell_type": "markdown",
   "metadata": {},
   "source": [
    "## Step 1: Specify ezRay"
   ]
  },
  {
   "cell_type": "code",
   "execution_count": null,
   "metadata": {},
   "outputs": [],
   "source": [
    "## Instance metadata\n",
    "##### IMPORTANT: In this step you can apecify any other keyword argument labeled \"for remote functions\"\n",
    "##### found in https://docs.ray.io/en/latest/ray-core/api/doc/ray.init.html.\n",
    "\n",
    "# -> 'num_cpu' is the number of virtual CPU cores to link with your instance.\n",
    "# -> 'num_gpu' is the number of GPU devices to link with your instance.\n",
    "# -> 'address' is the address of the Ray cluster to connect to. If None, a new cluster will be created locally.\n",
    "instance_metadata: dict = {\"num_cpus\": 1, \"num_gpus\": 0, \"address\": None}\n",
    "\n",
    "## Task metadata\n",
    "##### IMPORTANT: In this step you can specify any other keyword argument labeled \"for remote functions\"\n",
    "##### found in https://docs.ray.io/en/latest/ray-core/api/doc/ray.remote.html.\n",
    "\n",
    "# We keep a few default values for the task metadata.\n",
    "# -> 'num_cpus' is the number of CPU cores to allocate for each task.\n",
    "# -> 'num_gpus' is the number of GPU devices to allocate for each task.\n",
    "# -> 'num_returns' is the number of return values from each task.\n",
    "\n",
    "task_metadata: dict = {\"num_cpus\": 1, \"num_gpus\": 0, \"num_returns\": 1}\n",
    "\n",
    "## Behavioral flags\n",
    "# -> 'AutoArchive' is a boolean flag that will force the archiving of results when between runs and upon data update.\n",
    "# -> 'AutoContinue' is a boolean flag that will force the tool to automatically prepare for the next run after the current run is completed. If AutoArchive is enabled, the tool will automatically archive the results before preparing for the next run.\n",
    "# -> 'SingleShot' is a boolean flag that will force the tool to run once and return the results. Archiving will be disabled and the next run automatically prepared. This is meant to be used if the tool is used as a function or part of a pipeline.\n",
    "# -> 'AutoLaunchDashboard' is a boolean flag to launch the Dask dashboard on cluster initialization.\n",
    "# -> 'ListenerDelayTime' adds an artificial delay when monitoring the cluster status.\n",
    "# -> 'silent' is a boolean flag to suppress all output.\n",
    "# -> 'DEBUG' is a boolean flag to enable debug output.\n",
    "verbosity_flags: dict = {\n",
    "    \"AutoArchive\": True,\n",
    "    \"AutoContinue\": False,\n",
    "    \"SingleShot\": True,\n",
    "    \"AutoLaunchDashboard\": False,\n",
    "    \"ListenerDelayTime\": 0.5,\n",
    "    \"silent\": False,\n",
    "    \"DEBUG\": False,\n",
    "}\n",
    "\n",
    "## Assembly\n",
    "RuntimeMetadata: Dict[str, Any] = {\n",
    "    \"instance_metadata\": instance_metadata,\n",
    "    \"task_metadata\": task_metadata,\n",
    "}\n",
    "print(\"Runtime Metadata:\")\n",
    "pprint(RuntimeMetadata)\n",
    "print(\"\\n\")\n",
    "\n",
    "\n",
    "# Example data\n",
    "RuntimeData: dict = {i: {\"ID\": i} for i in range(10)}\n",
    "print(\"Example data:\")\n",
    "pprint(RuntimeData)"
   ]
  },
  {
   "cell_type": "markdown",
   "metadata": {},
   "source": [
    "## Step 2: Initialize ezRay Instance"
   ]
  },
  {
   "cell_type": "code",
   "execution_count": null,
   "metadata": {},
   "outputs": [],
   "source": [
    "## We create a MultiCoreExecutionTool instance\n",
    "# -> We can either directly provice the RuntimeData or use the 'update_data' method to add data\n",
    "MultiCore: MultiCoreExecutionTool = MultiCoreExecutionTool(\n",
    "    RuntimeData, **RuntimeMetadata, **verbosity_flags\n",
    ")"
   ]
  },
  {
   "cell_type": "code",
   "execution_count": null,
   "metadata": {},
   "outputs": [],
   "source": [
    "## Update data\n",
    "# -> We can either directly provice the RuntimeData or use the 'update_data' method to add data\n",
    "# e.g.\n",
    "MultiCore.update_data(RuntimeData)\n",
    "\n",
    "## Update metadata\n",
    "# -> We can update the task metadata using the 'update_metadata' method\n",
    "# e.g.\n",
    "MultiCore.update_metadata(\n",
    "    task_metadata={\"num_cpus\": 1, \"num_gpus\": 0, \"num_returns\": 1},\n",
    "    instance_metadata={\"num_cpus\": 1, \"num_gpus\": 0},\n",
    ")"
   ]
  },
  {
   "cell_type": "markdown",
   "metadata": {},
   "source": [
    "### Step 2.5: Launch ray dashboard (optional)"
   ]
  },
  {
   "cell_type": "code",
   "execution_count": null,
   "metadata": {},
   "outputs": [],
   "source": [
    "## Lauching the dashboard to keep track of the cluster and the tasks\n",
    "MultiCore.launch_dashboard()"
   ]
  },
  {
   "cell_type": "markdown",
   "metadata": {},
   "source": [
    "## Step 3: Run ezRay"
   ]
  },
  {
   "cell_type": "markdown",
   "metadata": {},
   "source": [
    "### SingleShot Mode"
   ]
  },
  {
   "cell_type": "code",
   "execution_count": null,
   "metadata": {},
   "outputs": [],
   "source": [
    "## Run a ray-remote testfunction\n",
    "# We can forward any ray-remote function to the MultiCoreExecutionTool instance.\n",
    "# The function will be executed on the remote cluster.\n",
    "# The function must be defined in a separate module or script.\n",
    "\n",
    "## DEMO function\n",
    "# this will just return the input dictionary in a structured manner\n",
    "@ray.remote(num_cpus=1, num_returns=1)\n",
    "def remote_test_function(kwargs) -> Dict[Any, Any]:\n",
    "    \"\"\"Test function for the framework that merely forwards the input.\"\"\"\n",
    "    return {k: v for k, v in kwargs.items()}\n",
    "\n",
    "\n",
    "if MultiCore.SingleShot:\n",
    "    print(\"\\nRunning in SingleShot mode...\\n\")\n",
    "\n",
    "    ## Pass the function to the MultiCoreExecutionTool instance\n",
    "    pprint(MultiCore.run(remote_test_function))"
   ]
  },
  {
   "cell_type": "markdown",
   "metadata": {},
   "source": [
    "### MultiShot Mode"
   ]
  },
  {
   "cell_type": "code",
   "execution_count": null,
   "metadata": {},
   "outputs": [],
   "source": [
    "## Run a ray-remote testfunction\n",
    "# We can forward any ray-remote function to the MultiCoreExecutionTool instance.\n",
    "# The function will be executed on the remote cluster.\n",
    "# The function must be defined in a separate module or script.\n",
    "\n",
    "## DEMO function\n",
    "# this will just return the input dictionary in a structured manner\n",
    "@ray.remote(num_cpus=1, num_returns=1)\n",
    "def remote_test_function(kwargs) -> Dict[Any, Any]:\n",
    "    \"\"\"Test function for the framework that merely forwards the input.\"\"\"\n",
    "    return {k: v for k, v in kwargs.items()}\n",
    "\n",
    "\n",
    "## Disable SingleShot and reset the data for MultiShot demo\n",
    "MultiCore.SingleShot = False\n",
    "print(\"\\nRunning in MultiShot mode...\\n\")\n",
    "\n",
    "## Pass the function to the MultiCoreExecutionTool instance\n",
    "MultiCore.run(remote_test_function)\n",
    "\n",
    "## Get the results\n",
    "pprint(MultiCore.get_results())\n",
    "\n",
    "## Move to next task\n",
    "MultiCore.next()"
   ]
  },
  {
   "cell_type": "code",
   "execution_count": null,
   "metadata": {},
   "outputs": [],
   "source": [
    "## Run a local test function\n",
    "# We can also run a local function on the remote cluster.\n",
    "# The function must be defined in a separate module or script.\n",
    "# The function will be wrapped as a remote worker and then passed to the MultiCoreExecutionTool instance.\n",
    "\n",
    "## DEMO function\n",
    "# this will just return the input dictionary in a structured manner\n",
    "def local_test_function(**kwargs):\n",
    "    return {k: v for k, v in kwargs.items()}\n",
    "\n",
    "\n",
    "## Pass the function to the MultiCoreExecutionTool instance\n",
    "MultiCore.run(local_test_function)\n",
    "\n",
    "## Get the results\n",
    "pprint(MultiCore.get_results())\n",
    "\n",
    "## Move to next task\n",
    "MultiCore.next()"
   ]
  },
  {
   "cell_type": "code",
   "execution_count": null,
   "metadata": {},
   "outputs": [],
   "source": [
    "## Run in batch mode\n",
    "# We can run multiple functions in batch mode.\n",
    "# The functions must be defined in a separate module or script.\n",
    "\n",
    "## DEMO function\n",
    "# this will just return the input dictionary in a structured manner\n",
    "def local_test_function(**kwargs):\n",
    "    return {k: v for k, v in kwargs.items()}\n",
    "\n",
    "\n",
    "## Pass the function to the MultiCoreExecutionTool instance\n",
    "MultiCore.batch(local_test_function, runIDs=2)\n",
    "\n",
    "## Get the results\n",
    "pprint(MultiCore.get_results())\n",
    "\n",
    "## Move to next task\n",
    "MultiCore.next()"
   ]
  },
  {
   "cell_type": "code",
   "execution_count": null,
   "metadata": {},
   "outputs": [],
   "source": [
    "MultiCore.archive_results()"
   ]
  },
  {
   "cell_type": "markdown",
   "metadata": {},
   "source": [
    "### Check the Metadata"
   ]
  },
  {
   "cell_type": "code",
   "execution_count": null,
   "metadata": {},
   "outputs": [],
   "source": [
    "pprint(MultiCore.RuntimeMetadata)"
   ]
  },
  {
   "cell_type": "markdown",
   "metadata": {},
   "source": [
    "### Dont forget to shutdown the cluster after use."
   ]
  },
  {
   "cell_type": "code",
   "execution_count": null,
   "metadata": {},
   "outputs": [],
   "source": [
    "## Shutdown the cluster\n",
    "MultiCore.shutdown()"
   ]
  }
 ],
 "metadata": {
  "kernelspec": {
   "display_name": "ezRay_test",
   "language": "python",
   "name": "python3"
  },
  "language_info": {
   "codemirror_mode": {
    "name": "ipython",
    "version": 3
   },
   "file_extension": ".py",
   "mimetype": "text/x-python",
   "name": "python",
   "nbconvert_exporter": "python",
   "pygments_lexer": "ipython3",
   "version": "3.11.11"
  }
 },
 "nbformat": 4,
 "nbformat_minor": 2
}
